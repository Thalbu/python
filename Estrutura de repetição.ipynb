{
 "cells": [
  {
   "cell_type": "markdown",
   "metadata": {},
   "source": [
    "# <center>**PROGRAMAÇÃO DE COMPUTADORES**</center>\n",
    "## <center>*AVALIAÇÃO FORMATIVA 04*</center>\n",
    "## <center>*ESTRUTURAS DE REPETIÇÃO*</center>\n",
    "\n",
    "\n",
    "\n",
    "<center><b>UNIVERSIDADE FEDERAL DE MINAS GERAIS</b></center>"
   ]
  },
  {
   "cell_type": "markdown",
   "metadata": {},
   "source": [
    "# Desafio 1"
   ]
  },
  {
   "cell_type": "markdown",
   "metadata": {},
   "source": [
    "1. Pelo estudo da solucão dada no exemplo é possivel notar que a condição de parada é quando media for igual a zero (0)."
   ]
  },
  {
   "cell_type": "markdown",
   "metadata": {},
   "source": [
    "2. As entradas necessárias para satisfazer a condição de parada são as variaveis nota1, nota2 e nota3 receberem valores iguais a zero (0)."
   ]
  },
  {
   "cell_type": "markdown",
   "metadata": {},
   "source": [
    "### Usando o código apresentado no trabalho e os valores para que as condições de parada seja apresentadas\n",
    "\n",
    "\n",
    "\n",
    "\n",
    "\n"
   ]
  },
  {
   "cell_type": "markdown",
   "metadata": {},
   "source": [
    "Primeiramente irei inserir valores difentes de zero (0) para as notas do aluno e posteriormente irei fornecer os valores de zero (0) para que seja realizada a condição de parada como descrito nas respostas acima."
   ]
  },
  {
   "cell_type": "markdown",
   "metadata": {},
   "source": [
    "Primeira entrada de valores:\n",
    "\n",
    "nota1 = 90\n",
    "\n",
    "nota2 = 70\n",
    "\n",
    "nota3 = 80\n",
    "\n",
    "Resultado esperado: \"Media: 80\""
   ]
  },
  {
   "cell_type": "markdown",
   "metadata": {},
   "source": [
    "\n",
    "Segunda entrada de valores:\n",
    "\n",
    "nota1 = 0\n",
    "\n",
    "nota2 = 0\n",
    "\n",
    "nota3 = 0\n",
    "\n",
    "Resultado esperado: \"Programa executado com sucesso\""
   ]
  },
  {
   "cell_type": "code",
   "execution_count": 47,
   "metadata": {
    "scrolled": true
   },
   "outputs": [
    {
     "name": "stdout",
     "output_type": "stream",
     "text": [
      "nota 1:90\n",
      "nota 2:70\n",
      "nota 3:80\n",
      "Média: 80.0\n",
      "\n",
      "nota 1:0\n",
      "nota 2:0\n",
      "nota 3:0\n",
      "Programa executado com sucesso\n"
     ]
    }
   ],
   "source": [
    "while True:\n",
    "     nota1 = float(input( \"nota 1:\" ))\n",
    "     nota2 = float(input( \"nota 2:\" ))\n",
    "     nota3 = float(input( \"nota 3:\" ))\n",
    "     média = (nota1+nota2+nota3)/3\n",
    "     if média == 0:\n",
    "         break\n",
    "     print( f\"Média: {média:4.1f}\\n\" )\n",
    "print( \"Programa executado com sucesso\" )\n",
    "    "
   ]
  },
  {
   "cell_type": "markdown",
   "metadata": {},
   "source": [
    "# Desafio 2"
   ]
  },
  {
   "cell_type": "markdown",
   "metadata": {},
   "source": [
    "Linguagem algorítmica"
   ]
  },
  {
   "cell_type": "markdown",
   "metadata": {},
   "source": [
    "**<ins>faz array</ins>** centigrados\n",
    "\n",
    "escreva \"Passando de centigrados (°C) para Firenheit (°F)\"\n",
    "\n",
    "**<ins>repita</ins>**\n",
    "\n",
    "    converta valor_c para valor_f\n",
    "    escreva \"valor_c °Ccentigrado = valor_f °F\"\n",
    "\n",
    "**<ins>fim repita</ins>**"
   ]
  },
  {
   "cell_type": "code",
   "execution_count": 48,
   "metadata": {},
   "outputs": [],
   "source": [
    "import numpy as np #importar np da biblioteca numpy para criar vetores"
   ]
  },
  {
   "cell_type": "code",
   "execution_count": 49,
   "metadata": {},
   "outputs": [
    {
     "name": "stdout",
     "output_type": "stream",
     "text": [
      "Passando de centigrados (°C) para Firenheit (°F)\n",
      "1 °C = -30.20 °F\n",
      "8 °C = -17.60 °F\n",
      "15 °C = -5.00 °F\n",
      "22 °C = 7.60 °F\n",
      "29 °C = 20.20 °F\n",
      "36 °C = 32.80 °F\n",
      "43 °C = 45.40 °F\n",
      "50 °C = 58.00 °F\n",
      "57 °C = 70.60 °F\n",
      "64 °C = 83.20 °F\n",
      "71 °C = 95.80 °F\n",
      "78 °C = 108.40 °F\n",
      "85 °C = 121.00 °F\n",
      "92 °C = 133.60 °F\n",
      "99 °C = 146.20 °F\n"
     ]
    }
   ],
   "source": [
    "valor_c = np.arange(1,100,7) #gera um vetor de 1 a 100 espaçadamente variando de 7 em 7.\n",
    "print('Passando de centigrados (°C) para Firenheit (°F)')\n",
    "\n",
    "for n in valor_c:\n",
    "    valor_f = (9/5)*n -32 # equação que converte de centigrados para Farenheit\n",
    "    print( n,'°C =', \"%.2f\" %valor_f, '°F')\n",
    "    \n"
   ]
  },
  {
   "cell_type": "markdown",
   "metadata": {},
   "source": [
    "# Desafio 3"
   ]
  },
  {
   "cell_type": "markdown",
   "metadata": {},
   "source": [
    "### 1. A descrição sucinta do desafio."
   ]
  },
  {
   "cell_type": "markdown",
   "metadata": {},
   "source": [
    "Para calcular o valor numérico de uma série calcula-se sucessivamente o termo da série e faz-se a soma (ou a subtração) do termo ao valor da série. Em outras palavras acumula-se a soma de um número infinito de termos da série. Como temos uma restrição por não poder computar uma soma infinita, temos que truncar a serie em um valor e garantir que o erro cometido seja menor que o proximo valor que seria somado. Felizmente isso acontece e o objetivo do desafio é implementar o cálculo de valor de \"pi\" usando esse método. A série e dada na explicação do desafio e é necessário realizar um interpretação de como é feita esse somatório e implementá-lo."
   ]
  },
  {
   "cell_type": "markdown",
   "metadata": {},
   "source": [
    "### 2. O algoritmo final do programa"
   ]
  },
  {
   "cell_type": "markdown",
   "metadata": {},
   "source": [
    "<ins>numerador</ins> \n",
    "\n",
    "<ins>array</ins>  parada\n",
    "\n",
    "<ins>repete_1</ins> enquanto nume/deno for maior parada\n",
    "\n",
    "    realiza soma da série\n",
    "   \n",
    "<ins>fim repete_1</ins>\n",
    "escreva valor de pi encontrado, pi real, diferenca entre eles\n",
    "    "
   ]
  },
  {
   "cell_type": "markdown",
   "metadata": {},
   "source": [
    "### 3. O texto do programa Python"
   ]
  },
  {
   "cell_type": "code",
   "execution_count": 50,
   "metadata": {},
   "outputs": [],
   "source": [
    "import math # importando a biblioteca Math onde temos a constante math.pi\n",
    "import time # importando a biblioteca time"
   ]
  },
  {
   "cell_type": "code",
   "execution_count": 51,
   "metadata": {
    "scrolled": true
   },
   "outputs": [
    {
     "name": "stdout",
     "output_type": "stream",
     "text": [
      "---------------------------------------------------------------------------------------------------------\n",
      "Para precisão de                                     0.001\n",
      "Valor obtido da serie é                              3.1410926536210413\n",
      "Número de termos foi                                 2000\n",
      "O último termo                                       0.000999750062484379\n",
      "valor da constante math.pi é                         3.141592653589793\n",
      "diferença entre a constante e o valor calculado é    0.0004999999687518297\n",
      "Tempo da soma série é                                0.005991935729980469\n",
      "---------------------------------------------------------------------------------------------------------\n",
      "Para precisão de                                     1e-05\n",
      "Valor obtido da serie é                              3.1415876535897618\n",
      "Número de termos foi                                 200000\n",
      "O último termo                                       9.9999750000625e-06\n",
      "valor da constante math.pi é                         3.141592653589793\n",
      "diferença entre a constante e o valor calculado é    5.000000031341045e-06\n",
      "Tempo da soma série é                                0.3158109188079834\n",
      "---------------------------------------------------------------------------------------------------------\n",
      "Para precisão de                                     1e-07\n",
      "Valor obtido da serie é                              3.141592603589817\n",
      "Número de termos foi                                 20000000\n",
      "O último termo                                       9.999999750000007e-08\n",
      "valor da constante math.pi é                         3.141592653589793\n",
      "diferença entre a constante e o valor calculado é    4.999997615939833e-08\n",
      "Tempo da soma série é                                29.915282726287842\n",
      "---------------------------------------------------------------------------------------------------------\n"
     ]
    }
   ],
   "source": [
    "nume = 4 #denominador da serie\n",
    "para = [ 1e-3, 1e-5, 1e-7]\n",
    "\n",
    "print('---------------------------------------------------------------------------------------------------------')\n",
    "for i in para:\n",
    "    serie = 0                          # armazenar o valor da serie\n",
    "    n = 0                              # auxiliar para gerar os numeros impares\n",
    "    deno = 0                           # denominador da serie\n",
    "    deno =  (n*2+1)                    # gera números impares\n",
    "    ini = time.time()                  # inicia tempo\n",
    "    cont = 0                           #numero de termos somados\n",
    "    while ((nume/deno) > i):\n",
    "        serie = serie + (nume/deno)*math.pow(-1,n)\n",
    "        cont = cont + 1\n",
    "        n = n + 1\n",
    "        deno =  (n*2+1) \n",
    "    fim = time.time()\n",
    "    print('Para precisão de                                    ', i)\n",
    "    print('Valor obtido da serie é                             ',serie)\n",
    "    print('Número de termos foi                                ', cont)\n",
    "    print('O último termo                                      ', (nume/deno))\n",
    "    print('valor da constante math.pi é                        ',math.pi)\n",
    "    print('diferença entre a constante e o valor calculado é   ',(math.pi - serie))\n",
    "    print('Tempo da soma série é                               ', (fim-ini))\n",
    "    print('---------------------------------------------------------------------------------------------------------')\n",
    "    \n",
    "\n",
    "    "
   ]
  },
  {
   "cell_type": "markdown",
   "metadata": {},
   "source": [
    "### 4. Os resultados obtidos no interpretador para os termos - 4/3, 4/5, -4/7, 4/13."
   ]
  },
  {
   "cell_type": "markdown",
   "metadata": {},
   "source": [
    "Imprima no interpretador do Python, os valores de alguns dos termos da série mostrada abaixo: - 4/3, 4/5, -4/7, 4/13. Anote os valores obtidos, coloque-os no relatório e comente o que você observar."
   ]
  },
  {
   "cell_type": "code",
   "execution_count": 52,
   "metadata": {},
   "outputs": [
    {
     "name": "stdout",
     "output_type": "stream",
     "text": [
      "-1.3333333333333333\n",
      "0.8\n",
      "-0.5714285714285714\n",
      "0.3076923076923077\n"
     ]
    }
   ],
   "source": [
    "print(-4/3)\n",
    "print(4/5)\n",
    "print(-4/7)\n",
    "print(4/13)"
   ]
  },
  {
   "cell_type": "markdown",
   "metadata": {},
   "source": [
    "Comentário: os valores encontrados estão ficando cada vez menores e intercalando entre positivos e negativos, ou seja, convergindo para zero (0) em valores absolutos."
   ]
  },
  {
   "cell_type": "markdown",
   "metadata": {},
   "source": [
    "### 5. Os resultados obtidos com as precisões de 10^(-3), 10^(-5) , 10^(-7) (valor obtido, número de termos, o último termo, valor da constante math.pi e a diferença entre a constante e o valor calculado)\n"
   ]
  },
  {
   "cell_type": "markdown",
   "metadata": {},
   "source": [
    "Os resultados requeridos nesse ponto foram mostrados no ponto 3, onde se encontra o código executado com suas saidas referentes a cada um dos requisitos pedidos."
   ]
  },
  {
   "cell_type": "markdown",
   "metadata": {},
   "source": [
    "### 6. A resposta sobre a questão do tempo e a justificativa pertinente."
   ]
  },
  {
   "cell_type": "markdown",
   "metadata": {},
   "source": [
    "Pergunta: O que acontece com o tempo de cálculo quando se diminui a precisão para cálculo da série? Explique por que isso acontece"
   ]
  },
  {
   "cell_type": "markdown",
   "metadata": {},
   "source": [
    "Resposta: considerando que uma precisão menor se refere a ter um resultado com menos casas decimais iguais, podemos afirmar que ao diminuir a precisão no calculo temos um tempo menor para o processo, pois temos que realizar menos iterações levando um custo computacional menor e deixando o processo mais rápido."
   ]
  }
 ],
 "metadata": {
  "kernelspec": {
   "display_name": "Python 3",
   "language": "python",
   "name": "python3"
  },
  "language_info": {
   "codemirror_mode": {
    "name": "ipython",
    "version": 3
   },
   "file_extension": ".py",
   "mimetype": "text/x-python",
   "name": "python",
   "nbconvert_exporter": "python",
   "pygments_lexer": "ipython3",
   "version": "3.8.5"
  }
 },
 "nbformat": 4,
 "nbformat_minor": 4
}
