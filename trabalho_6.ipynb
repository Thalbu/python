{
 "cells": [
  {
   "cell_type": "code",
   "execution_count": 15,
   "metadata": {},
   "outputs": [
    {
     "name": "stdout",
     "output_type": "stream",
     "text": [
      "1984\n",
      "100\n",
      "10\n",
      "0.5\n",
      "1776\n",
      "1300\n",
      "5\n",
      "0.16\n",
      "1812\n",
      "600\n",
      "15\n",
      "0.55\n",
      "1056\n",
      "700\n",
      "8\n",
      "0.8\n",
      "0\n",
      "0\n",
      "0\n",
      "0\n",
      "1984 100 10 0.5 17\n",
      "1776 1300 5 0.16 19\n",
      "1812 600 15 0.55 13\n",
      "1056 700 8 0.8 8\n"
     ]
    }
   ],
   "source": [
    "from math import *\n",
    "virus = []\n",
    "\n",
    "while True:\n",
    "    n_cultura = input()\n",
    "    n_celulas = input()\n",
    "    d_placa = input()\n",
    "    t_cres = input()\n",
    "    if (n_cultura == '0') & (n_celulas == '0') & ( d_placa == '0') & (t_cres == '0'): \n",
    "        break\n",
    "    else: \n",
    "        entrada = [int(n_cultura), int(n_celulas), int(d_placa), float(t_cres)]\n",
    "        aux = int(n_celulas)/10\n",
    "        geracao = 0\n",
    "        base = 1 + entrada[3]\n",
    "        while ((aux)<(((entrada[2]*10/2)**2)*pi)):\n",
    "            geracao += 1\n",
    "            aux = aux*base\n",
    "            \n",
    "            \n",
    "        entrada.append(geracao)\n",
    "        virus.append(entrada)        \n",
    "        \n",
    "for user in virus:\n",
    "    print('{0} {1} {2} {3} {4}'.format(int(user[0]),int(user[1]), int(user[2]), float(user[3]), int(user[4])))"
   ]
  },
  {
   "cell_type": "code",
   "execution_count": 24,
   "metadata": {},
   "outputs": [
    {
     "name": "stdout",
     "output_type": "stream",
     "text": [
      "3\n",
      "Tabela de raiz de ordem 3\n",
      "Número  Raiz\n",
      "1       1.0000\n",
      "2       1.2599\n",
      "3       1.4422\n",
      "4       1.5874\n",
      "5       1.7100\n",
      "6       1.8171\n",
      "7       1.9129\n",
      "8       2.0000\n",
      "9       2.0801\n",
      "10       2.1544\n"
     ]
    }
   ],
   "source": [
    "def funcao_fx(x,n,Y):\n",
    "    funcao = x**n-Y\n",
    "    return funcao\n",
    "def derivada_fx(x,n):\n",
    "    derivada = n*(x**(n-1))\n",
    "    return derivada\n",
    "def raiz(x,n,Y,epsilon):\n",
    "    \n",
    "    if (x**n-Y >= (-epsilon)) & (x**n-Y <= epsilon):\n",
    "        return x \n",
    "    else:\n",
    "        x = x - (funcao_fx(x,n,Y)/derivada_fx(x,n))\n",
    "        return raiz(x,n,Y,epsilon) \n",
    "\n",
    "n = int(input(''))\n",
    "L = range(1,11)\n",
    "epsilon = 10**(-5)\n",
    "\n",
    "print('Tabela de raiz de ordem {0}'.format(n))\n",
    "print('Número  Raiz')\n",
    "for Y in L:\n",
    "    Xo = Y/2\n",
    "    x = raiz(Xo,n,Y,epsilon)\n",
    "    print('{0}      {1: .4f}'.format(Y,x))"
   ]
  }
 ],
 "metadata": {
  "kernelspec": {
   "display_name": "Python 3",
   "language": "python",
   "name": "python3"
  },
  "language_info": {
   "codemirror_mode": {
    "name": "ipython",
    "version": 3
   },
   "file_extension": ".py",
   "mimetype": "text/x-python",
   "name": "python",
   "nbconvert_exporter": "python",
   "pygments_lexer": "ipython3",
   "version": "3.8.5"
  }
 },
 "nbformat": 4,
 "nbformat_minor": 4
}
